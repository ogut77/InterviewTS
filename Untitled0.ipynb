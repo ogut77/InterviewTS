{
  "nbformat": 4,
  "nbformat_minor": 0,
  "metadata": {
    "colab": {
      "name": "Untitled0.ipynb",
      "provenance": [],
      "collapsed_sections": []
    },
    "kernelspec": {
      "name": "python3",
      "display_name": "Python 3"
    }
  },
  "cells": [
    {
      "cell_type": "code",
      "metadata": {
        "id": "uwqU9cPqQN1O",
        "outputId": "ae1bcbf7-1e17-4c2d-8353-472ee47eab43",
        "colab": {
          "base_uri": "https://localhost:8080/",
          "height": 204
        }
      },
      "source": [
        "!wget https://raw.githubusercontent.com/jbrownlee/Datasets/master/monthly_champagne_sales.csv\n"
      ],
      "execution_count": 1,
      "outputs": [
        {
          "output_type": "stream",
          "text": [
            "--2020-10-22 05:18:10--  https://raw.githubusercontent.com/jbrownlee/Datasets/master/monthly_champagne_sales.csv\n",
            "Resolving raw.githubusercontent.com (raw.githubusercontent.com)... 151.101.0.133, 151.101.64.133, 151.101.128.133, ...\n",
            "Connecting to raw.githubusercontent.com (raw.githubusercontent.com)|151.101.0.133|:443... connected.\n",
            "HTTP request sent, awaiting response... 200 OK\n",
            "Length: 1596 (1.6K) [text/plain]\n",
            "Saving to: ‘monthly_champagne_sales.csv’\n",
            "\n",
            "monthly_champagne_s 100%[===================>]   1.56K  --.-KB/s    in 0s      \n",
            "\n",
            "2020-10-22 05:18:10 (29.2 MB/s) - ‘monthly_champagne_sales.csv’ saved [1596/1596]\n",
            "\n"
          ],
          "name": "stdout"
        }
      ]
    },
    {
      "cell_type": "code",
      "metadata": {
        "id": "JI5PYA6Ydfl4",
        "outputId": "86dc68f3-dac0-4f4b-c66c-8b71d33b0b19",
        "colab": {
          "base_uri": "https://localhost:8080/",
          "height": 452
        }
      },
      "source": [
        "from matplotlib import pyplot\n",
        "from pandas import read_csv\n",
        "df_sales = read_csv('monthly_champagne_sales.csv', parse_dates=True, squeeze=True)\n",
        "df_sales.plot()\n",
        "pyplot.show()\n",
        "df_sales.head()"
      ],
      "execution_count": 3,
      "outputs": [
        {
          "output_type": "display_data",
          "data": {
            "image/png": "[encoded data removed]",
            "text/plain": [
              "<Figure size 432x288 with 1 Axes>"
            ]
          },
          "metadata": {
            "tags": [],
            "needs_background": "light"
          }
        },
        {
          "output_type": "execute_result",
          "data": {
            "text/html": [
              "<div>\n",
              "<style scoped>\n",
              "    .dataframe tbody tr th:only-of-type {\n",
              "        vertical-align: middle;\n",
              "    }\n",
              "\n",
              "    .dataframe tbody tr th {\n",
              "        vertical-align: top;\n",
              "    }\n",
              "\n",
              "    .dataframe thead th {\n",
              "        text-align: right;\n",
              "    }\n",
              "</style>\n",
              "<table border=\"1\" class=\"dataframe\">\n",
              "  <thead>\n",
              "    <tr style=\"text-align: right;\">\n",
              "      <th></th>\n",
              "      <th>Month</th>\n",
              "      <th>Sales</th>\n",
              "    </tr>\n",
              "  </thead>\n",
              "  <tbody>\n",
              "    <tr>\n",
              "      <th>0</th>\n",
              "      <td>1964-01</td>\n",
              "      <td>2815</td>\n",
              "    </tr>\n",
              "    <tr>\n",
              "      <th>1</th>\n",
              "      <td>1964-02</td>\n",
              "      <td>2672</td>\n",
              "    </tr>\n",
              "    <tr>\n",
              "      <th>2</th>\n",
              "      <td>1964-03</td>\n",
              "      <td>2755</td>\n",
              "    </tr>\n",
              "    <tr>\n",
              "      <th>3</th>\n",
              "      <td>1964-04</td>\n",
              "      <td>2721</td>\n",
              "    </tr>\n",
              "    <tr>\n",
              "      <th>4</th>\n",
              "      <td>1964-05</td>\n",
              "      <td>2946</td>\n",
              "    </tr>\n",
              "  </tbody>\n",
              "</table>\n",
              "</div>"
            ],
            "text/plain": [
              "     Month  Sales\n",
              "0  1964-01   2815\n",
              "1  1964-02   2672\n",
              "2  1964-03   2755\n",
              "3  1964-04   2721\n",
              "4  1964-05   2946"
            ]
          },
          "metadata": {
            "tags": []
          },
          "execution_count": 3
        }
      ]
    },
    {
      "cell_type": "code",
      "metadata": {
        "id": "GNz5Lj4J2hhQ",
        "outputId": "316073a8-bcf6-47c7-aa00-4e3d010832e3",
        "colab": {
          "base_uri": "https://localhost:8080/",
          "height": 367
        }
      },
      "source": [
        "from pandas import read_csv\n",
        "from pandas import Series\n",
        "from statsmodels.tsa.stattools import adfuller\n",
        "from matplotlib import pyplot\n",
        " \n",
        "# create a differenced series\n",
        "def difference(dataset, interval=1):\n",
        "\tdiff = list()\n",
        "\tfor i in range(interval, len(dataset)):\n",
        "\t\tvalue = dataset[i] - dataset[i - interval]\n",
        "\t\tdiff.append(value)\n",
        "\treturn Series(diff)\n",
        " \n",
        "series = read_csv('monthly_champagne_sales.csv', parse_dates=True, squeeze=True)\n",
        "X = series.Sales\n",
        "X = X.astype('float32')\n",
        "# difference data\n",
        "months_in_year = 12\n",
        "stationary = difference(X, months_in_year)\n",
        "stationary.index = series.index[months_in_year:]\n",
        "# check if stationary\n",
        "result = adfuller(stationary)\n",
        "print('ADF Statistic: %f' % result[0])\n",
        "print('p-value: %f' % result[1])\n",
        "print('Critical Values:')\n",
        "for key, value in result[4].items():\n",
        "\tprint('\\t%s: %.3f' % (key, value))\n",
        "# save\n",
        "stationary.to_csv('stationary.csv', header=False)\n",
        "# plot\n",
        "stationary.plot()\n",
        "pyplot.show()"
      ],
      "execution_count": 22,
      "outputs": [
        {
          "output_type": "stream",
          "text": [
            "ADF Statistic: -7.626619\n",
            "p-value: 0.000000\n",
            "Critical Values:\n",
            "\t1%: -3.504\n",
            "\t5%: -2.894\n",
            "\t10%: -2.584\n"
          ],
          "name": "stdout"
        },
        {
          "output_type": "display_data",
          "data": {
            "image/png": "[encoded data removed]",
            "text/plain": [
              "<Figure size 432x288 with 1 Axes>"
            ]
          },
          "metadata": {
            "tags": [],
            "needs_background": "light"
          }
        }
      ]
    },
    {
      "cell_type": "markdown",
      "metadata": {
        "id": "0sYChc3J3SRr"
      },
      "source": [
        "Difference is stationary. We try to predict difference using up to 12 lag using LSTM"
      ]
    },
    {
      "cell_type": "code",
      "metadata": {
        "id": "1EOAwkZmggzK",
        "outputId": "cd08fb19-6b65-4491-83cc-ce7e37ffc530",
        "colab": {
          "base_uri": "https://localhost:8080/",
          "height": 204
        }
      },
      "source": [
        "df_diff = df_sales.copy()\n",
        "#add previous sales to the next row\n",
        "df_diff['prev_sales'] = df_diff['Sales'].shift(1)\n",
        "#drop the null values and calculate the difference\n",
        "df_diff = df_diff.dropna()\n",
        "df_diff['diff'] = (df_diff['Sales'] - df_diff['prev_sales'])\n",
        "import pandas as pd\n",
        "pd.set_option(\"display.max_rows\", None, \"display.max_columns\", None)\n",
        "\n",
        "df_diff.head()"
      ],
      "execution_count": 4,
      "outputs": [
        {
          "output_type": "execute_result",
          "data": {
            "text/html": [
              "<div>\n",
              "<style scoped>\n",
              "    .dataframe tbody tr th:only-of-type {\n",
              "        vertical-align: middle;\n",
              "    }\n",
              "\n",
              "    .dataframe tbody tr th {\n",
              "        vertical-align: top;\n",
              "    }\n",
              "\n",
              "    .dataframe thead th {\n",
              "        text-align: right;\n",
              "    }\n",
              "</style>\n",
              "<table border=\"1\" class=\"dataframe\">\n",
              "  <thead>\n",
              "    <tr style=\"text-align: right;\">\n",
              "      <th></th>\n",
              "      <th>Month</th>\n",
              "      <th>Sales</th>\n",
              "      <th>prev_sales</th>\n",
              "      <th>diff</th>\n",
              "    </tr>\n",
              "  </thead>\n",
              "  <tbody>\n",
              "    <tr>\n",
              "      <th>1</th>\n",
              "      <td>1964-02</td>\n",
              "      <td>2672</td>\n",
              "      <td>2815.0</td>\n",
              "      <td>-143.0</td>\n",
              "    </tr>\n",
              "    <tr>\n",
              "      <th>2</th>\n",
              "      <td>1964-03</td>\n",
              "      <td>2755</td>\n",
              "      <td>2672.0</td>\n",
              "      <td>83.0</td>\n",
              "    </tr>\n",
              "    <tr>\n",
              "      <th>3</th>\n",
              "      <td>1964-04</td>\n",
              "      <td>2721</td>\n",
              "      <td>2755.0</td>\n",
              "      <td>-34.0</td>\n",
              "    </tr>\n",
              "    <tr>\n",
              "      <th>4</th>\n",
              "      <td>1964-05</td>\n",
              "      <td>2946</td>\n",
              "      <td>2721.0</td>\n",
              "      <td>225.0</td>\n",
              "    </tr>\n",
              "    <tr>\n",
              "      <th>5</th>\n",
              "      <td>1964-06</td>\n",
              "      <td>3036</td>\n",
              "      <td>2946.0</td>\n",
              "      <td>90.0</td>\n",
              "    </tr>\n",
              "  </tbody>\n",
              "</table>\n",
              "</div>"
            ],
            "text/plain": [
              "     Month  Sales  prev_sales   diff\n",
              "1  1964-02   2672      2815.0 -143.0\n",
              "2  1964-03   2755      2672.0   83.0\n",
              "3  1964-04   2721      2755.0  -34.0\n",
              "4  1964-05   2946      2721.0  225.0\n",
              "5  1964-06   3036      2946.0   90.0"
            ]
          },
          "metadata": {
            "tags": []
          },
          "execution_count": 4
        }
      ]
    },
    {
      "cell_type": "code",
      "metadata": {
        "id": "8fuD81PMhk9z"
      },
      "source": [
        "df_supervised = df_diff.drop(['prev_sales'],axis=1)\n",
        "#adding lags\n",
        "for inc in range(1,13):\n",
        "    field_name = 'lag_' + str(inc)\n",
        "    df_supervised[field_name] = df_supervised['diff'].shift(inc)"
      ],
      "execution_count": 6,
      "outputs": []
    },
    {
      "cell_type": "code",
      "metadata": {
        "id": "BA3b4Jx0h7mP",
        "outputId": "87deaf6a-cabc-45db-de7c-219316afdb3f",
        "colab": {
          "base_uri": "https://localhost:8080/",
          "height": 204
        }
      },
      "source": [
        "df_supervised = df_supervised.dropna().reset_index(drop=True)\n",
        "df_supervised.head()"
      ],
      "execution_count": 7,
      "outputs": [
        {
          "output_type": "execute_result",
          "data": {
            "text/html": [
              "<div>\n",
              "<style scoped>\n",
              "    .dataframe tbody tr th:only-of-type {\n",
              "        vertical-align: middle;\n",
              "    }\n",
              "\n",
              "    .dataframe tbody tr th {\n",
              "        vertical-align: top;\n",
              "    }\n",
              "\n",
              "    .dataframe thead th {\n",
              "        text-align: right;\n",
              "    }\n",
              "</style>\n",
              "<table border=\"1\" class=\"dataframe\">\n",
              "  <thead>\n",
              "    <tr style=\"text-align: right;\">\n",
              "      <th></th>\n",
              "      <th>Month</th>\n",
              "      <th>Sales</th>\n",
              "      <th>diff</th>\n",
              "      <th>lag_1</th>\n",
              "      <th>lag_2</th>\n",
              "      <th>lag_3</th>\n",
              "      <th>lag_4</th>\n",
              "      <th>lag_5</th>\n",
              "      <th>lag_6</th>\n",
              "      <th>lag_7</th>\n",
              "      <th>lag_8</th>\n",
              "      <th>lag_9</th>\n",
              "      <th>lag_10</th>\n",
              "      <th>lag_11</th>\n",
              "      <th>lag_12</th>\n",
              "    </tr>\n",
              "  </thead>\n",
              "  <tbody>\n",
              "    <tr>\n",
              "      <th>0</th>\n",
              "      <td>1965-02</td>\n",
              "      <td>2475</td>\n",
              "      <td>-66.0</td>\n",
              "      <td>-4771.0</td>\n",
              "      <td>1548.0</td>\n",
              "      <td>1463.0</td>\n",
              "      <td>1379.0</td>\n",
              "      <td>710.0</td>\n",
              "      <td>-70.0</td>\n",
              "      <td>-754.0</td>\n",
              "      <td>90.0</td>\n",
              "      <td>225.0</td>\n",
              "      <td>-34.0</td>\n",
              "      <td>83.0</td>\n",
              "      <td>-143.0</td>\n",
              "    </tr>\n",
              "    <tr>\n",
              "      <th>1</th>\n",
              "      <td>1965-03</td>\n",
              "      <td>3031</td>\n",
              "      <td>556.0</td>\n",
              "      <td>-66.0</td>\n",
              "      <td>-4771.0</td>\n",
              "      <td>1548.0</td>\n",
              "      <td>1463.0</td>\n",
              "      <td>1379.0</td>\n",
              "      <td>710.0</td>\n",
              "      <td>-70.0</td>\n",
              "      <td>-754.0</td>\n",
              "      <td>90.0</td>\n",
              "      <td>225.0</td>\n",
              "      <td>-34.0</td>\n",
              "      <td>83.0</td>\n",
              "    </tr>\n",
              "    <tr>\n",
              "      <th>2</th>\n",
              "      <td>1965-04</td>\n",
              "      <td>3266</td>\n",
              "      <td>235.0</td>\n",
              "      <td>556.0</td>\n",
              "      <td>-66.0</td>\n",
              "      <td>-4771.0</td>\n",
              "      <td>1548.0</td>\n",
              "      <td>1463.0</td>\n",
              "      <td>1379.0</td>\n",
              "      <td>710.0</td>\n",
              "      <td>-70.0</td>\n",
              "      <td>-754.0</td>\n",
              "      <td>90.0</td>\n",
              "      <td>225.0</td>\n",
              "      <td>-34.0</td>\n",
              "    </tr>\n",
              "    <tr>\n",
              "      <th>3</th>\n",
              "      <td>1965-05</td>\n",
              "      <td>3776</td>\n",
              "      <td>510.0</td>\n",
              "      <td>235.0</td>\n",
              "      <td>556.0</td>\n",
              "      <td>-66.0</td>\n",
              "      <td>-4771.0</td>\n",
              "      <td>1548.0</td>\n",
              "      <td>1463.0</td>\n",
              "      <td>1379.0</td>\n",
              "      <td>710.0</td>\n",
              "      <td>-70.0</td>\n",
              "      <td>-754.0</td>\n",
              "      <td>90.0</td>\n",
              "      <td>225.0</td>\n",
              "    </tr>\n",
              "    <tr>\n",
              "      <th>4</th>\n",
              "      <td>1965-06</td>\n",
              "      <td>3230</td>\n",
              "      <td>-546.0</td>\n",
              "      <td>510.0</td>\n",
              "      <td>235.0</td>\n",
              "      <td>556.0</td>\n",
              "      <td>-66.0</td>\n",
              "      <td>-4771.0</td>\n",
              "      <td>1548.0</td>\n",
              "      <td>1463.0</td>\n",
              "      <td>1379.0</td>\n",
              "      <td>710.0</td>\n",
              "      <td>-70.0</td>\n",
              "      <td>-754.0</td>\n",
              "      <td>90.0</td>\n",
              "    </tr>\n",
              "  </tbody>\n",
              "</table>\n",
              "</div>"
            ],
            "text/plain": [
              "     Month  Sales   diff   lag_1   lag_2   lag_3   lag_4   lag_5   lag_6  \\\n",
              "0  1965-02   2475  -66.0 -4771.0  1548.0  1463.0  1379.0   710.0   -70.0   \n",
              "1  1965-03   3031  556.0   -66.0 -4771.0  1548.0  1463.0  1379.0   710.0   \n",
              "2  1965-04   3266  235.0   556.0   -66.0 -4771.0  1548.0  1463.0  1379.0   \n",
              "3  1965-05   3776  510.0   235.0   556.0   -66.0 -4771.0  1548.0  1463.0   \n",
              "4  1965-06   3230 -546.0   510.0   235.0   556.0   -66.0 -4771.0  1548.0   \n",
              "\n",
              "    lag_7   lag_8  lag_9  lag_10  lag_11  lag_12  \n",
              "0  -754.0    90.0  225.0   -34.0    83.0  -143.0  \n",
              "1   -70.0  -754.0   90.0   225.0   -34.0    83.0  \n",
              "2   710.0   -70.0 -754.0    90.0   225.0   -34.0  \n",
              "3  1379.0   710.0  -70.0  -754.0    90.0   225.0  \n",
              "4  1463.0  1379.0  710.0   -70.0  -754.0    90.0  "
            ]
          },
          "metadata": {
            "tags": []
          },
          "execution_count": 7
        }
      ]
    },
    {
      "cell_type": "code",
      "metadata": {
        "id": "TN3t0VlAi5Us",
        "outputId": "38ff02db-008b-4d16-ad2f-a4b1d58a3dee",
        "colab": {
          "base_uri": "https://localhost:8080/",
          "height": 34
        }
      },
      "source": [
        "# Import statsmodels.formula.api\n",
        "import statsmodels.formula.api as smf \n",
        "\n",
        "# Define the regression formula\n",
        "model = smf.ols(formula='diff ~ lag_1\t+lag_2+\tlag_3\t+lag_4\t+lag_5+\tlag_6\t+lag_7+\tlag_8\t+lag_9+\tlag_10+\tlag_11+\tlag_12', data=df_supervised)\n",
        "\n",
        "# Fit the regression\n",
        "model_fit = model.fit()\n",
        "\n",
        "# Extract the adjusted r-squared\n",
        "regression_adj_rsq = model_fit.rsquared_adj\n",
        "print(regression_adj_rsq)"
      ],
      "execution_count": 8,
      "outputs": [
        {
          "output_type": "stream",
          "text": [
            "0.9214768266966963\n"
          ],
          "name": "stdout"
        }
      ]
    },
    {
      "cell_type": "code",
      "metadata": {
        "id": "HtEZ-2IOi5gf"
      },
      "source": [
        "from sklearn.preprocessing import MinMaxScaler\n",
        "df_model = df_supervised.drop(['Sales','Month'],axis=1)"
      ],
      "execution_count": 10,
      "outputs": []
    },
    {
      "cell_type": "code",
      "metadata": {
        "id": "AAdyvhgqi5kS",
        "outputId": "55e80792-3069-4d84-fb88-cc67e4732923",
        "colab": {
          "base_uri": "https://localhost:8080/",
          "height": 204
        }
      },
      "source": [
        "df_model.head()"
      ],
      "execution_count": 11,
      "outputs": [
        {
          "output_type": "execute_result",
          "data": {
            "text/html": [
              "<div>\n",
              "<style scoped>\n",
              "    .dataframe tbody tr th:only-of-type {\n",
              "        vertical-align: middle;\n",
              "    }\n",
              "\n",
              "    .dataframe tbody tr th {\n",
              "        vertical-align: top;\n",
              "    }\n",
              "\n",
              "    .dataframe thead th {\n",
              "        text-align: right;\n",
              "    }\n",
              "</style>\n",
              "<table border=\"1\" class=\"dataframe\">\n",
              "  <thead>\n",
              "    <tr style=\"text-align: right;\">\n",
              "      <th></th>\n",
              "      <th>diff</th>\n",
              "      <th>lag_1</th>\n",
              "      <th>lag_2</th>\n",
              "      <th>lag_3</th>\n",
              "      <th>lag_4</th>\n",
              "      <th>lag_5</th>\n",
              "      <th>lag_6</th>\n",
              "      <th>lag_7</th>\n",
              "      <th>lag_8</th>\n",
              "      <th>lag_9</th>\n",
              "      <th>lag_10</th>\n",
              "      <th>lag_11</th>\n",
              "      <th>lag_12</th>\n",
              "    </tr>\n",
              "  </thead>\n",
              "  <tbody>\n",
              "    <tr>\n",
              "      <th>0</th>\n",
              "      <td>-66.0</td>\n",
              "      <td>-4771.0</td>\n",
              "      <td>1548.0</td>\n",
              "      <td>1463.0</td>\n",
              "      <td>1379.0</td>\n",
              "      <td>710.0</td>\n",
              "      <td>-70.0</td>\n",
              "      <td>-754.0</td>\n",
              "      <td>90.0</td>\n",
              "      <td>225.0</td>\n",
              "      <td>-34.0</td>\n",
              "      <td>83.0</td>\n",
              "      <td>-143.0</td>\n",
              "    </tr>\n",
              "    <tr>\n",
              "      <th>1</th>\n",
              "      <td>556.0</td>\n",
              "      <td>-66.0</td>\n",
              "      <td>-4771.0</td>\n",
              "      <td>1548.0</td>\n",
              "      <td>1463.0</td>\n",
              "      <td>1379.0</td>\n",
              "      <td>710.0</td>\n",
              "      <td>-70.0</td>\n",
              "      <td>-754.0</td>\n",
              "      <td>90.0</td>\n",
              "      <td>225.0</td>\n",
              "      <td>-34.0</td>\n",
              "      <td>83.0</td>\n",
              "    </tr>\n",
              "    <tr>\n",
              "      <th>2</th>\n",
              "      <td>235.0</td>\n",
              "      <td>556.0</td>\n",
              "      <td>-66.0</td>\n",
              "      <td>-4771.0</td>\n",
              "      <td>1548.0</td>\n",
              "      <td>1463.0</td>\n",
              "      <td>1379.0</td>\n",
              "      <td>710.0</td>\n",
              "      <td>-70.0</td>\n",
              "      <td>-754.0</td>\n",
              "      <td>90.0</td>\n",
              "      <td>225.0</td>\n",
              "      <td>-34.0</td>\n",
              "    </tr>\n",
              "    <tr>\n",
              "      <th>3</th>\n",
              "      <td>510.0</td>\n",
              "      <td>235.0</td>\n",
              "      <td>556.0</td>\n",
              "      <td>-66.0</td>\n",
              "      <td>-4771.0</td>\n",
              "      <td>1548.0</td>\n",
              "      <td>1463.0</td>\n",
              "      <td>1379.0</td>\n",
              "      <td>710.0</td>\n",
              "      <td>-70.0</td>\n",
              "      <td>-754.0</td>\n",
              "      <td>90.0</td>\n",
              "      <td>225.0</td>\n",
              "    </tr>\n",
              "    <tr>\n",
              "      <th>4</th>\n",
              "      <td>-546.0</td>\n",
              "      <td>510.0</td>\n",
              "      <td>235.0</td>\n",
              "      <td>556.0</td>\n",
              "      <td>-66.0</td>\n",
              "      <td>-4771.0</td>\n",
              "      <td>1548.0</td>\n",
              "      <td>1463.0</td>\n",
              "      <td>1379.0</td>\n",
              "      <td>710.0</td>\n",
              "      <td>-70.0</td>\n",
              "      <td>-754.0</td>\n",
              "      <td>90.0</td>\n",
              "    </tr>\n",
              "  </tbody>\n",
              "</table>\n",
              "</div>"
            ],
            "text/plain": [
              "    diff   lag_1   lag_2   lag_3   lag_4   lag_5   lag_6   lag_7   lag_8  \\\n",
              "0  -66.0 -4771.0  1548.0  1463.0  1379.0   710.0   -70.0  -754.0    90.0   \n",
              "1  556.0   -66.0 -4771.0  1548.0  1463.0  1379.0   710.0   -70.0  -754.0   \n",
              "2  235.0   556.0   -66.0 -4771.0  1548.0  1463.0  1379.0   710.0   -70.0   \n",
              "3  510.0   235.0   556.0   -66.0 -4771.0  1548.0  1463.0  1379.0   710.0   \n",
              "4 -546.0   510.0   235.0   556.0   -66.0 -4771.0  1548.0  1463.0  1379.0   \n",
              "\n",
              "   lag_9  lag_10  lag_11  lag_12  \n",
              "0  225.0   -34.0    83.0  -143.0  \n",
              "1   90.0   225.0   -34.0    83.0  \n",
              "2 -754.0    90.0   225.0   -34.0  \n",
              "3  -70.0  -754.0    90.0   225.0  \n",
              "4  710.0   -70.0  -754.0    90.0  "
            ]
          },
          "metadata": {
            "tags": []
          },
          "execution_count": 11
        }
      ]
    },
    {
      "cell_type": "code",
      "metadata": {
        "id": "7QILIf56i5oy"
      },
      "source": [
        "#split test and train\n",
        "train_set, test_set = df_model[0:-52].values, df_model[-52:].values"
      ],
      "execution_count": 12,
      "outputs": []
    },
    {
      "cell_type": "code",
      "metadata": {
        "id": "rXwYgktJCcc8",
        "outputId": "849c988f-d10f-495e-d1ba-d2ee73df92f9",
        "colab": {
          "base_uri": "https://localhost:8080/",
          "height": 51
        }
      },
      "source": [
        "print(train_set.shape)\n",
        "print(test_set.shape)"
      ],
      "execution_count": 14,
      "outputs": [
        {
          "output_type": "stream",
          "text": [
            "(40, 13)\n",
            "(52, 13)\n"
          ],
          "name": "stdout"
        }
      ]
    },
    {
      "cell_type": "code",
      "metadata": {
        "id": "N1_Mrv3di5uL"
      },
      "source": [
        "#apply Min Max Scaler\n",
        "scaler = MinMaxScaler(feature_range=(-1, 1))\n",
        "scaler = scaler.fit(train_set)\n",
        "# reshape training set\n",
        "train_set = train_set.reshape(train_set.shape[0], train_set.shape[1])\n",
        "train_set_scaled = scaler.transform(train_set)\n",
        "\n",
        "# reshape test set\n",
        "test_set = test_set.reshape(test_set.shape[0], test_set.shape[1])\n",
        "test_set_scaled = scaler.transform(test_set)"
      ],
      "execution_count": 15,
      "outputs": []
    },
    {
      "cell_type": "code",
      "metadata": {
        "id": "iM1k_zfOi50L"
      },
      "source": [
        "X_train, y_train = train_set_scaled[:, 1:], train_set_scaled[:, 0:1]\n",
        "X_train = X_train.reshape(X_train.shape[0], 1, X_train.shape[1])"
      ],
      "execution_count": 16,
      "outputs": []
    },
    {
      "cell_type": "code",
      "metadata": {
        "id": "Dm8t8if5i5sX"
      },
      "source": [
        "X_test, y_test = test_set_scaled[:, 1:], test_set_scaled[:, 0:1]\n",
        "X_test = X_test.reshape(X_test.shape[0], 1, X_test.shape[1])"
      ],
      "execution_count": 17,
      "outputs": []
    },
    {
      "cell_type": "code",
      "metadata": {
        "id": "dT94DaxeotRS",
        "outputId": "4407c059-dc33-4ba5-a8b4-821f36fa3edd",
        "colab": {
          "base_uri": "https://localhost:8080/",
          "height": 1000
        }
      },
      "source": [
        "#apply LSTM and calcualate RMSE \n",
        "import keras\n",
        "from keras.layers import Dense\n",
        "from keras.models import Sequential\n",
        "from keras.optimizers import Adam \n",
        "from keras.callbacks import EarlyStopping\n",
        "from keras.utils import np_utils\n",
        "from keras.layers import LSTM\n",
        "from sklearn.model_selection import KFold, cross_val_score, train_test_split\n",
        "model = Sequential()\n",
        "model.add(LSTM(12, batch_input_shape=(1, X_train.shape[1], X_train.shape[2]), stateful=True))\n",
        "model.add(Dense(1))\n",
        "model.compile(loss='mean_squared_error', optimizer='Adam')\n",
        "model.fit(X_train, y_train, epochs=75, batch_size=1, verbose=1, shuffle=False)\n",
        "y_pred = model.predict(X_test,batch_size=1)\n",
        "y_pred = y_pred.reshape(y_pred.shape[0], 1, y_pred.shape[1])\n",
        "import numpy as np\n",
        "pred_test_set = []\n",
        "for index in range(0,len(y_pred)):\n",
        "    #print( np.concatenate([y_pred[index],X_test[index]],axis=1))\n",
        "    pred_test_set.append(np.concatenate([y_pred[index],X_test[index]],axis=1))\n",
        "pred_test_set[0]\n",
        "pred_test_set = np.array(pred_test_set)\n",
        "pred_test_set = pred_test_set.reshape(pred_test_set.shape[0], pred_test_set.shape[2])\n",
        "pred_test_set_inverted = scaler.inverse_transform(pred_test_set)\n",
        "result_list = []\n",
        "sales_dates = list(df_sales[-53:].Month)\n",
        "act_sales = list(df_sales[-53:].Sales)\n",
        "for index in range(0,len(pred_test_set_inverted)):\n",
        "    result_dict = {}\n",
        "    result_dict['Month'] = sales_dates[index+1]\n",
        "    result_dict['pred_value'] = int(pred_test_set_inverted[index][0] + act_sales[index])   \n",
        "    result_list.append(result_dict)\n",
        "df_result = pd.DataFrame(result_list)\n",
        "df_sales_pred = pd.merge(df_sales,df_result,on='Month',how='left')\n",
        "from sklearn.metrics import mean_squared_error\n",
        "from math import sqrt\n",
        "df=df_sales_pred[-52:]\n",
        "mse = mean_squared_error(df.Sales, df.pred_value)\n",
        "rmse = sqrt(mse)\n",
        "print('RMSE: %.3f' % rmse)"
      ],
      "execution_count": 20,
      "outputs": [
        {
          "output_type": "stream",
          "text": [
            "Epoch 1/75\n",
            "40/40 [==============================] - 0s 1ms/step - loss: 0.2432\n",
            "Epoch 2/75\n",
            "40/40 [==============================] - 0s 1ms/step - loss: 0.1485\n",
            "Epoch 3/75\n",
            "40/40 [==============================] - 0s 1ms/step - loss: 0.1350\n",
            "Epoch 4/75\n",
            "40/40 [==============================] - 0s 1ms/step - loss: 0.1222\n",
            "Epoch 5/75\n",
            "40/40 [==============================] - 0s 1ms/step - loss: 0.1103\n",
            "Epoch 6/75\n",
            "40/40 [==============================] - 0s 1ms/step - loss: 0.0993\n",
            "Epoch 7/75\n",
            "40/40 [==============================] - 0s 1ms/step - loss: 0.0890\n",
            "Epoch 8/75\n",
            "40/40 [==============================] - 0s 1ms/step - loss: 0.0796\n",
            "Epoch 9/75\n",
            "40/40 [==============================] - 0s 1ms/step - loss: 0.0710\n",
            "Epoch 10/75\n",
            "40/40 [==============================] - 0s 1ms/step - loss: 0.0631\n",
            "Epoch 11/75\n",
            "40/40 [==============================] - 0s 1ms/step - loss: 0.0561\n",
            "Epoch 12/75\n",
            "40/40 [==============================] - 0s 2ms/step - loss: 0.0499\n",
            "Epoch 13/75\n",
            "40/40 [==============================] - 0s 1ms/step - loss: 0.0444\n",
            "Epoch 14/75\n",
            "40/40 [==============================] - 0s 1ms/step - loss: 0.0397\n",
            "Epoch 15/75\n",
            "40/40 [==============================] - 0s 1ms/step - loss: 0.0356\n",
            "Epoch 16/75\n",
            "40/40 [==============================] - 0s 1ms/step - loss: 0.0322\n",
            "Epoch 17/75\n",
            "40/40 [==============================] - 0s 1ms/step - loss: 0.0293\n",
            "Epoch 18/75\n",
            "40/40 [==============================] - 0s 1ms/step - loss: 0.0271\n",
            "Epoch 19/75\n",
            "40/40 [==============================] - 0s 1ms/step - loss: 0.0254\n",
            "Epoch 20/75\n",
            "40/40 [==============================] - 0s 1ms/step - loss: 0.0241\n",
            "Epoch 21/75\n",
            "40/40 [==============================] - 0s 1ms/step - loss: 0.0231\n",
            "Epoch 22/75\n",
            "40/40 [==============================] - 0s 1ms/step - loss: 0.0224\n",
            "Epoch 23/75\n",
            "40/40 [==============================] - 0s 1ms/step - loss: 0.0218\n",
            "Epoch 24/75\n",
            "40/40 [==============================] - 0s 1ms/step - loss: 0.0213\n",
            "Epoch 25/75\n",
            "40/40 [==============================] - 0s 1ms/step - loss: 0.0209\n",
            "Epoch 26/75\n",
            "40/40 [==============================] - 0s 1ms/step - loss: 0.0205\n",
            "Epoch 27/75\n",
            "40/40 [==============================] - 0s 1ms/step - loss: 0.0202\n",
            "Epoch 28/75\n",
            "40/40 [==============================] - 0s 1ms/step - loss: 0.0199\n",
            "Epoch 29/75\n",
            "40/40 [==============================] - 0s 1ms/step - loss: 0.0196\n",
            "Epoch 30/75\n",
            "40/40 [==============================] - 0s 1ms/step - loss: 0.0193\n",
            "Epoch 31/75\n",
            "40/40 [==============================] - 0s 1ms/step - loss: 0.0190\n",
            "Epoch 32/75\n",
            "40/40 [==============================] - 0s 1ms/step - loss: 0.0188\n",
            "Epoch 33/75\n",
            "40/40 [==============================] - 0s 1ms/step - loss: 0.0185\n",
            "Epoch 34/75\n",
            "40/40 [==============================] - 0s 1ms/step - loss: 0.0182\n",
            "Epoch 35/75\n",
            "40/40 [==============================] - 0s 1ms/step - loss: 0.0180\n",
            "Epoch 36/75\n",
            "40/40 [==============================] - 0s 1ms/step - loss: 0.0177\n",
            "Epoch 37/75\n",
            "40/40 [==============================] - 0s 1ms/step - loss: 0.0175\n",
            "Epoch 38/75\n",
            "40/40 [==============================] - 0s 2ms/step - loss: 0.0172\n",
            "Epoch 39/75\n",
            "40/40 [==============================] - 0s 1ms/step - loss: 0.0170\n",
            "Epoch 40/75\n",
            "40/40 [==============================] - 0s 1ms/step - loss: 0.0168\n",
            "Epoch 41/75\n",
            "40/40 [==============================] - 0s 2ms/step - loss: 0.0165\n",
            "Epoch 42/75\n",
            "40/40 [==============================] - 0s 1ms/step - loss: 0.0163\n",
            "Epoch 43/75\n",
            "40/40 [==============================] - 0s 1ms/step - loss: 0.0161\n",
            "Epoch 44/75\n",
            "40/40 [==============================] - 0s 1ms/step - loss: 0.0158\n",
            "Epoch 45/75\n",
            "40/40 [==============================] - 0s 1ms/step - loss: 0.0156\n",
            "Epoch 46/75\n",
            "40/40 [==============================] - 0s 1ms/step - loss: 0.0154\n",
            "Epoch 47/75\n",
            "40/40 [==============================] - 0s 1ms/step - loss: 0.0151\n",
            "Epoch 48/75\n",
            "40/40 [==============================] - 0s 1ms/step - loss: 0.0149\n",
            "Epoch 49/75\n",
            "40/40 [==============================] - 0s 1ms/step - loss: 0.0147\n",
            "Epoch 50/75\n",
            "40/40 [==============================] - 0s 1ms/step - loss: 0.0145\n",
            "Epoch 51/75\n",
            "40/40 [==============================] - 0s 1ms/step - loss: 0.0143\n",
            "Epoch 52/75\n",
            "40/40 [==============================] - 0s 1ms/step - loss: 0.0140\n",
            "Epoch 53/75\n",
            "40/40 [==============================] - 0s 1ms/step - loss: 0.0138\n",
            "Epoch 54/75\n",
            "40/40 [==============================] - 0s 1ms/step - loss: 0.0136\n",
            "Epoch 55/75\n",
            "40/40 [==============================] - 0s 2ms/step - loss: 0.0134\n",
            "Epoch 56/75\n",
            "40/40 [==============================] - 0s 1ms/step - loss: 0.0132\n",
            "Epoch 57/75\n",
            "40/40 [==============================] - 0s 1ms/step - loss: 0.0129\n",
            "Epoch 58/75\n",
            "40/40 [==============================] - 0s 1ms/step - loss: 0.0127\n",
            "Epoch 59/75\n",
            "40/40 [==============================] - 0s 2ms/step - loss: 0.0125\n",
            "Epoch 60/75\n",
            "40/40 [==============================] - 0s 1ms/step - loss: 0.0123\n",
            "Epoch 61/75\n",
            "40/40 [==============================] - 0s 1ms/step - loss: 0.0121\n",
            "Epoch 62/75\n",
            "40/40 [==============================] - 0s 1ms/step - loss: 0.0119\n",
            "Epoch 63/75\n",
            "40/40 [==============================] - 0s 1ms/step - loss: 0.0117\n",
            "Epoch 64/75\n",
            "40/40 [==============================] - 0s 1ms/step - loss: 0.0115\n",
            "Epoch 65/75\n",
            "40/40 [==============================] - 0s 1ms/step - loss: 0.0113\n",
            "Epoch 66/75\n",
            "40/40 [==============================] - 0s 1ms/step - loss: 0.0111\n",
            "Epoch 67/75\n",
            "40/40 [==============================] - 0s 1ms/step - loss: 0.0109\n",
            "Epoch 68/75\n",
            "40/40 [==============================] - 0s 1ms/step - loss: 0.0107\n",
            "Epoch 69/75\n",
            "40/40 [==============================] - 0s 1ms/step - loss: 0.0105\n",
            "Epoch 70/75\n",
            "40/40 [==============================] - 0s 1ms/step - loss: 0.0103\n",
            "Epoch 71/75\n",
            "40/40 [==============================] - 0s 2ms/step - loss: 0.0101\n",
            "Epoch 72/75\n",
            "40/40 [==============================] - 0s 2ms/step - loss: 0.0099\n",
            "Epoch 73/75\n",
            "40/40 [==============================] - 0s 1ms/step - loss: 0.0097\n",
            "Epoch 74/75\n",
            "40/40 [==============================] - 0s 1ms/step - loss: 0.0095\n",
            "Epoch 75/75\n",
            "40/40 [==============================] - 0s 1ms/step - loss: 0.0093\n",
            "RMSE: 944.553\n"
          ],
          "name": "stdout"
        }
      ]
    },
    {
      "cell_type": "code",
      "metadata": {
        "id": "ZRm0puEVFWBT",
        "outputId": "3b182dc1-3a36-4df5-c7fc-7a8f4674b928",
        "colab": {
          "base_uri": "https://localhost:8080/",
          "height": 265
        }
      },
      "source": [
        "df_sales_pred.plot()\n",
        "pyplot.show()"
      ],
      "execution_count": 92,
      "outputs": [
        {
          "output_type": "display_data",
          "data": {
            "image/png": "[encoded data removed]",
            "text/plain": [
              "<Figure size 432x288 with 1 Axes>"
            ]
          },
          "metadata": {
            "tags": [],
            "needs_background": "light"
          }
        }
      ]
    }
  ]
}